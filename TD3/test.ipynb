{
 "cells": [
  {
   "cell_type": "code",
   "execution_count": 15,
   "metadata": {},
   "outputs": [],
   "source": [
    "from utils import str2bool,evaluate_policy, Reward_adapter\n",
    "from datetime import datetime\n",
    "from TD3 import TD3_agent\n",
    "import  gym\n",
    "import numpy as np\n",
    "import os, shutil\n",
    "import argparse\n",
    "import torch"
   ]
  },
  {
   "cell_type": "code",
   "execution_count": 16,
   "metadata": {},
   "outputs": [
    {
     "name": "stdout",
     "output_type": "stream",
     "text": [
      "Namespace(dvc=device(type='cuda'), EnvIdex=5, write=False, render=True, Loadmodel=False, ModelIdex=5000, seed=0, update_every=50, Max_train_steps=5000000, save_interval=100000, eval_interval=2000, delay_freq=1, gamma=0.99, net_width=256, a_lr=0.0001, c_lr=0.0001, batch_size=256, explore_noise=0.15, explore_noise_decay=0.998)\n"
     ]
    }
   ],
   "source": [
    "'''Hyperparameter Setting'''\n",
    "parser = argparse.ArgumentParser()\n",
    "parser.add_argument('--dvc', type=str, default='cuda', help='running device: cuda or cpu')\n",
    "parser.add_argument('--EnvIdex', type=int, default=5, help='PV1, Lch_Cv2, Humanv4, HCv4, BWv3, BWHv3')\n",
    "parser.add_argument('--write', type=str2bool, default=False, help='Use SummaryWriter to record the training')\n",
    "parser.add_argument('--render', type=str2bool, default=True, help='Render or Not')\n",
    "parser.add_argument('--Loadmodel', type=str2bool, default=False, help='Load pretrained model or Not')\n",
    "parser.add_argument('--ModelIdex', type=int, default=5000, help='which model to load')\n",
    "\n",
    "parser.add_argument('--seed', type=int, default=0, help='random seed')\n",
    "parser.add_argument('--update_every', type=int, default=50, help='training frequency')\n",
    "parser.add_argument('--Max_train_steps', type=int, default=int(5e6), help='Max training steps')\n",
    "parser.add_argument('--save_interval', type=int, default=int(1e5), help='Model saving interval, in steps.')\n",
    "parser.add_argument('--eval_interval', type=int, default=int(2e3), help='Model evaluating interval, in steps.')\n",
    "\n",
    "parser.add_argument('--delay_freq', type=int, default=1, help='Delayed frequency for Actor and Target Net')\n",
    "parser.add_argument('--gamma', type=float, default=0.99, help='Discounted Factor')\n",
    "parser.add_argument('--net_width', type=int, default=256, help='Hidden net width, s_dim-400-300-a_dim')\n",
    "parser.add_argument('--a_lr', type=float, default=1e-4, help='Learning rate of actor')\n",
    "parser.add_argument('--c_lr', type=float, default=1e-4, help='Learning rate of critic')\n",
    "parser.add_argument('--batch_size', type=int, default=256, help='batch_size of training')\n",
    "parser.add_argument('--explore_noise', type=float, default=0.15, help='exploring noise when interacting')\n",
    "parser.add_argument('--explore_noise_decay', type=float, default=0.998, help='Decay rate of explore noise')\n",
    "opt = parser.parse_args([])\n",
    "opt.dvc = torch.device(opt.dvc) # from str to torch.device\n",
    "print(opt)\n"
   ]
  },
  {
   "cell_type": "code",
   "execution_count": 17,
   "metadata": {},
   "outputs": [],
   "source": [
    "EnvName = ['Pendulum-v1','LunarLanderContinuous-v2','Humanoid-v4','HalfCheetah-v4','BipedalWalker-v3','BipedalWalkerHardcore-v3']\n",
    "BrifEnvName = ['PV1', 'LLdV2', 'Humanv4', 'HCv4','BWv3', 'BWHv3']\n",
    "\n",
    "# Build Env\n",
    "env = gym.make(EnvName[opt.EnvIdex],new_step_api=True, render_mode = \"human\" if opt.render else None)\n",
    "eval_env = gym.make(EnvName[opt.EnvIdex],new_step_api=True)\n",
    "opt.state_dim = env.observation_space.shape[0]\n",
    "opt.action_dim = env.action_space.shape[0]\n",
    "opt.max_action = float(env.action_space.high[0])   #remark: action space【-max,max】\n",
    "opt.max_e_steps = env._max_episode_steps"
   ]
  },
  {
   "cell_type": "code",
   "execution_count": 18,
   "metadata": {},
   "outputs": [],
   "source": [
    "agent = TD3_agent(**vars(opt)) "
   ]
  },
  {
   "cell_type": "code",
   "execution_count": 19,
   "metadata": {},
   "outputs": [],
   "source": [
    "agent.load(BrifEnvName[opt.EnvIdex], opt.ModelIdex)"
   ]
  },
  {
   "cell_type": "code",
   "execution_count": 20,
   "metadata": {},
   "outputs": [
    {
     "ename": "KeyboardInterrupt",
     "evalue": "",
     "output_type": "error",
     "traceback": [
      "\u001b[1;31m---------------------------------------------------------------------------\u001b[0m",
      "\u001b[1;31mKeyboardInterrupt\u001b[0m                         Traceback (most recent call last)",
      "\u001b[1;32md:\\interesting\\reinforement_learning\\Deep-Reinforcement-Learning-Algorithms-with-Pytorch\\4.2 TD3\\test.ipynb 单元格 6\u001b[0m line \u001b[0;36m<cell line: 2>\u001b[1;34m()\u001b[0m\n\u001b[0;32m      <a href='vscode-notebook-cell:/d%3A/interesting/reinforement_learning/Deep-Reinforcement-Learning-Algorithms-with-Pytorch/4.2%20TD3/test.ipynb#W3sZmlsZQ%3D%3D?line=2'>3</a>\u001b[0m done \u001b[39m=\u001b[39m \u001b[39mFalse\u001b[39;00m\n\u001b[0;32m      <a href='vscode-notebook-cell:/d%3A/interesting/reinforement_learning/Deep-Reinforcement-Learning-Algorithms-with-Pytorch/4.2%20TD3/test.ipynb#W3sZmlsZQ%3D%3D?line=3'>4</a>\u001b[0m \u001b[39mwhile\u001b[39;00m \u001b[39mnot\u001b[39;00m done:\n\u001b[0;32m      <a href='vscode-notebook-cell:/d%3A/interesting/reinforement_learning/Deep-Reinforcement-Learning-Algorithms-with-Pytorch/4.2%20TD3/test.ipynb#W3sZmlsZQ%3D%3D?line=4'>5</a>\u001b[0m     \u001b[39m# Take deterministic actions at test time\u001b[39;00m\n\u001b[1;32m----> <a href='vscode-notebook-cell:/d%3A/interesting/reinforement_learning/Deep-Reinforcement-Learning-Algorithms-with-Pytorch/4.2%20TD3/test.ipynb#W3sZmlsZQ%3D%3D?line=5'>6</a>\u001b[0m     a \u001b[39m=\u001b[39m agent\u001b[39m.\u001b[39;49mselect_action(s, deterministic\u001b[39m=\u001b[39;49m\u001b[39mTrue\u001b[39;49;00m)\n\u001b[0;32m      <a href='vscode-notebook-cell:/d%3A/interesting/reinforement_learning/Deep-Reinforcement-Learning-Algorithms-with-Pytorch/4.2%20TD3/test.ipynb#W3sZmlsZQ%3D%3D?line=6'>7</a>\u001b[0m     s_next, r, dw, tr, info \u001b[39m=\u001b[39m env\u001b[39m.\u001b[39mstep(a)\n\u001b[0;32m      <a href='vscode-notebook-cell:/d%3A/interesting/reinforement_learning/Deep-Reinforcement-Learning-Algorithms-with-Pytorch/4.2%20TD3/test.ipynb#W3sZmlsZQ%3D%3D?line=7'>8</a>\u001b[0m     done \u001b[39m=\u001b[39m (dw \u001b[39mor\u001b[39;00m tr)\n",
      "File \u001b[1;32md:\\interesting\\reinforement_learning\\Deep-Reinforcement-Learning-Algorithms-with-Pytorch\\4.2 TD3\\TD3.py:29\u001b[0m, in \u001b[0;36mTD3_agent.select_action\u001b[1;34m(self, state, deterministic)\u001b[0m\n\u001b[0;32m     27\u001b[0m \u001b[39mdef\u001b[39;00m \u001b[39mselect_action\u001b[39m(\u001b[39mself\u001b[39m, state, deterministic):\n\u001b[0;32m     28\u001b[0m \t\u001b[39mwith\u001b[39;00m torch\u001b[39m.\u001b[39mno_grad():\n\u001b[1;32m---> 29\u001b[0m \t\tstate \u001b[39m=\u001b[39m torch\u001b[39m.\u001b[39;49mFloatTensor(state[np\u001b[39m.\u001b[39;49mnewaxis, :])\u001b[39m.\u001b[39;49mto(\u001b[39mself\u001b[39;49m\u001b[39m.\u001b[39;49mdvc)  \u001b[39m# from [x,x,...,x] to [[x,x,...,x]]\u001b[39;00m\n\u001b[0;32m     30\u001b[0m \t\ta \u001b[39m=\u001b[39m \u001b[39mself\u001b[39m\u001b[39m.\u001b[39mactor(state)\u001b[39m.\u001b[39mcpu()\u001b[39m.\u001b[39mnumpy()[\u001b[39m0\u001b[39m] \u001b[39m# from [[x,x,...,x]] to [x,x,...,x]\u001b[39;00m\n\u001b[0;32m     31\u001b[0m \t\t\u001b[39mif\u001b[39;00m deterministic:\n",
      "\u001b[1;31mKeyboardInterrupt\u001b[0m: "
     ]
    }
   ],
   "source": [
    "while True:\n",
    "    s = env.reset()\n",
    "    done = False\n",
    "    while not done:\n",
    "        # Take deterministic actions at test time\n",
    "        a = agent.select_action(s, deterministic=True)\n",
    "        s_next, r, dw, tr, info = env.step(a)\n",
    "        done = (dw or tr)\n",
    "        s = s_next"
   ]
  },
  {
   "cell_type": "code",
   "execution_count": null,
   "metadata": {},
   "outputs": [],
   "source": []
  }
 ],
 "metadata": {
  "kernelspec": {
   "display_name": "base",
   "language": "python",
   "name": "python3"
  },
  "language_info": {
   "codemirror_mode": {
    "name": "ipython",
    "version": 3
   },
   "file_extension": ".py",
   "mimetype": "text/x-python",
   "name": "python",
   "nbconvert_exporter": "python",
   "pygments_lexer": "ipython3",
   "version": "3.9.7"
  }
 },
 "nbformat": 4,
 "nbformat_minor": 2
}
